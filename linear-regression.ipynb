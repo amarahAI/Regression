{
 "cells": [
  {
   "cell_type": "code",
   "execution_count": 1,
   "id": "oriented-rally",
   "metadata": {
    "_cell_guid": "b1076dfc-b9ad-4769-8c92-a6c4dae69d19",
    "_uuid": "8f2839f25d086af736a60e9eeb907d3b93b6e0e5",
    "execution": {
     "iopub.execute_input": "2021-05-03T11:37:00.261711Z",
     "iopub.status.busy": "2021-05-03T11:37:00.261124Z",
     "iopub.status.idle": "2021-05-03T11:37:00.279970Z",
     "shell.execute_reply": "2021-05-03T11:37:00.278958Z"
    },
    "papermill": {
     "duration": 0.035704,
     "end_time": "2021-05-03T11:37:00.280161",
     "exception": false,
     "start_time": "2021-05-03T11:37:00.244457",
     "status": "completed"
    },
    "tags": []
   },
   "outputs": [
    {
     "name": "stdout",
     "output_type": "stream",
     "text": [
      "/kaggle/input/heights-and-weights/data.csv\n"
     ]
    }
   ],
   "source": [
    "# This Python 3 environment comes with many helpful analytics libraries installed\n",
    "# It is defined by the kaggle/python Docker image: https://github.com/kaggle/docker-python\n",
    "# For example, here's several helpful packages to load\n",
    "\n",
    "import numpy as np # linear algebra\n",
    "import pandas as pd # data processing, CSV file I/O (e.g. pd.read_csv)\n",
    "\n",
    "# Input data files are available in the read-only \"../input/\" directory\n",
    "# For example, running this (by clicking run or pressing Shift+Enter) will list all files under the input directory\n",
    "\n",
    "import os\n",
    "for dirname, _, filenames in os.walk('/kaggle/input'):\n",
    "    for filename in filenames:\n",
    "        print(os.path.join(dirname, filename))\n",
    "\n",
    "# You can write up to 20GB to the current directory (/kaggle/working/) that gets preserved as output when you create a version using \"Save & Run All\" \n",
    "# You can also write temporary files to /kaggle/temp/, but they won't be saved outside of the current session"
   ]
  },
  {
   "cell_type": "markdown",
   "id": "fiscal-initial",
   "metadata": {
    "papermill": {
     "duration": 0.008996,
     "end_time": "2021-05-03T11:37:00.299320",
     "exception": false,
     "start_time": "2021-05-03T11:37:00.290324",
     "status": "completed"
    },
    "tags": []
   },
   "source": [
    "Importing the libraries"
   ]
  },
  {
   "cell_type": "code",
   "execution_count": 2,
   "id": "comfortable-logic",
   "metadata": {
    "execution": {
     "iopub.execute_input": "2021-05-03T11:37:00.324441Z",
     "iopub.status.busy": "2021-05-03T11:37:00.323775Z",
     "iopub.status.idle": "2021-05-03T11:37:01.565439Z",
     "shell.execute_reply": "2021-05-03T11:37:01.565882Z"
    },
    "papermill": {
     "duration": 1.257421,
     "end_time": "2021-05-03T11:37:01.566098",
     "exception": false,
     "start_time": "2021-05-03T11:37:00.308677",
     "status": "completed"
    },
    "tags": []
   },
   "outputs": [],
   "source": [
    "import numpy as np\n",
    "import pandas as pd\n",
    "import matplotlib.pyplot as plt\n",
    "%matplotlib inline\n",
    "from sklearn.model_selection import train_test_split\n",
    "from sklearn.linear_model import LinearRegression"
   ]
  },
  {
   "cell_type": "code",
   "execution_count": 3,
   "id": "desperate-subject",
   "metadata": {
    "execution": {
     "iopub.execute_input": "2021-05-03T11:37:01.591805Z",
     "iopub.status.busy": "2021-05-03T11:37:01.591135Z",
     "iopub.status.idle": "2021-05-03T11:37:01.630792Z",
     "shell.execute_reply": "2021-05-03T11:37:01.630335Z"
    },
    "papermill": {
     "duration": 0.054431,
     "end_time": "2021-05-03T11:37:01.630928",
     "exception": false,
     "start_time": "2021-05-03T11:37:01.576497",
     "status": "completed"
    },
    "tags": []
   },
   "outputs": [
    {
     "name": "stdout",
     "output_type": "stream",
     "text": [
      "    Height  Weight\n",
      "0     1.47   52.21\n",
      "1     1.50   53.12\n",
      "2     1.52   54.48\n",
      "3     1.55   55.84\n",
      "4     1.57   57.20\n",
      "5     1.60   58.57\n",
      "6     1.63   59.93\n",
      "7     1.65   61.29\n",
      "8     1.68   63.11\n",
      "9     1.70   64.47\n",
      "10    1.73   66.28\n",
      "11    1.75   68.10\n",
      "12    1.78   69.92\n",
      "13    1.80   72.19\n",
      "14    1.83   74.46\n"
     ]
    },
    {
     "data": {
      "text/plain": [
       "15"
      ]
     },
     "execution_count": 3,
     "metadata": {},
     "output_type": "execute_result"
    }
   ],
   "source": [
    "data = pd.read_csv('../input/heights-and-weights/data.csv')\n",
    "print(data)\n",
    "\n",
    "len(data)"
   ]
  },
  {
   "cell_type": "code",
   "execution_count": 4,
   "id": "black-institute",
   "metadata": {
    "execution": {
     "iopub.execute_input": "2021-05-03T11:37:01.658573Z",
     "iopub.status.busy": "2021-05-03T11:37:01.657944Z",
     "iopub.status.idle": "2021-05-03T11:37:01.665799Z",
     "shell.execute_reply": "2021-05-03T11:37:01.665326Z"
    },
    "papermill": {
     "duration": 0.024735,
     "end_time": "2021-05-03T11:37:01.665929",
     "exception": false,
     "start_time": "2021-05-03T11:37:01.641194",
     "status": "completed"
    },
    "tags": []
   },
   "outputs": [
    {
     "data": {
      "text/html": [
       "<div>\n",
       "<style scoped>\n",
       "    .dataframe tbody tr th:only-of-type {\n",
       "        vertical-align: middle;\n",
       "    }\n",
       "\n",
       "    .dataframe tbody tr th {\n",
       "        vertical-align: top;\n",
       "    }\n",
       "\n",
       "    .dataframe thead th {\n",
       "        text-align: right;\n",
       "    }\n",
       "</style>\n",
       "<table border=\"1\" class=\"dataframe\">\n",
       "  <thead>\n",
       "    <tr style=\"text-align: right;\">\n",
       "      <th></th>\n",
       "      <th>Height</th>\n",
       "      <th>Weight</th>\n",
       "    </tr>\n",
       "  </thead>\n",
       "  <tbody>\n",
       "    <tr>\n",
       "      <th>0</th>\n",
       "      <td>1.47</td>\n",
       "      <td>52.21</td>\n",
       "    </tr>\n",
       "    <tr>\n",
       "      <th>1</th>\n",
       "      <td>1.50</td>\n",
       "      <td>53.12</td>\n",
       "    </tr>\n",
       "    <tr>\n",
       "      <th>2</th>\n",
       "      <td>1.52</td>\n",
       "      <td>54.48</td>\n",
       "    </tr>\n",
       "    <tr>\n",
       "      <th>3</th>\n",
       "      <td>1.55</td>\n",
       "      <td>55.84</td>\n",
       "    </tr>\n",
       "    <tr>\n",
       "      <th>4</th>\n",
       "      <td>1.57</td>\n",
       "      <td>57.20</td>\n",
       "    </tr>\n",
       "  </tbody>\n",
       "</table>\n",
       "</div>"
      ],
      "text/plain": [
       "   Height  Weight\n",
       "0    1.47   52.21\n",
       "1    1.50   53.12\n",
       "2    1.52   54.48\n",
       "3    1.55   55.84\n",
       "4    1.57   57.20"
      ]
     },
     "execution_count": 4,
     "metadata": {},
     "output_type": "execute_result"
    }
   ],
   "source": [
    "data.head()"
   ]
  },
  {
   "cell_type": "code",
   "execution_count": 5,
   "id": "opposed-crazy",
   "metadata": {
    "execution": {
     "iopub.execute_input": "2021-05-03T11:37:01.690277Z",
     "iopub.status.busy": "2021-05-03T11:37:01.689654Z",
     "iopub.status.idle": "2021-05-03T11:37:01.698613Z",
     "shell.execute_reply": "2021-05-03T11:37:01.699106Z"
    },
    "papermill": {
     "duration": 0.022761,
     "end_time": "2021-05-03T11:37:01.699312",
     "exception": false,
     "start_time": "2021-05-03T11:37:01.676551",
     "status": "completed"
    },
    "tags": []
   },
   "outputs": [
    {
     "data": {
      "text/html": [
       "<div>\n",
       "<style scoped>\n",
       "    .dataframe tbody tr th:only-of-type {\n",
       "        vertical-align: middle;\n",
       "    }\n",
       "\n",
       "    .dataframe tbody tr th {\n",
       "        vertical-align: top;\n",
       "    }\n",
       "\n",
       "    .dataframe thead th {\n",
       "        text-align: right;\n",
       "    }\n",
       "</style>\n",
       "<table border=\"1\" class=\"dataframe\">\n",
       "  <thead>\n",
       "    <tr style=\"text-align: right;\">\n",
       "      <th></th>\n",
       "      <th>Height</th>\n",
       "      <th>Weight</th>\n",
       "    </tr>\n",
       "  </thead>\n",
       "  <tbody>\n",
       "    <tr>\n",
       "      <th>10</th>\n",
       "      <td>1.73</td>\n",
       "      <td>66.28</td>\n",
       "    </tr>\n",
       "    <tr>\n",
       "      <th>11</th>\n",
       "      <td>1.75</td>\n",
       "      <td>68.10</td>\n",
       "    </tr>\n",
       "    <tr>\n",
       "      <th>12</th>\n",
       "      <td>1.78</td>\n",
       "      <td>69.92</td>\n",
       "    </tr>\n",
       "    <tr>\n",
       "      <th>13</th>\n",
       "      <td>1.80</td>\n",
       "      <td>72.19</td>\n",
       "    </tr>\n",
       "    <tr>\n",
       "      <th>14</th>\n",
       "      <td>1.83</td>\n",
       "      <td>74.46</td>\n",
       "    </tr>\n",
       "  </tbody>\n",
       "</table>\n",
       "</div>"
      ],
      "text/plain": [
       "    Height  Weight\n",
       "10    1.73   66.28\n",
       "11    1.75   68.10\n",
       "12    1.78   69.92\n",
       "13    1.80   72.19\n",
       "14    1.83   74.46"
      ]
     },
     "execution_count": 5,
     "metadata": {},
     "output_type": "execute_result"
    }
   ],
   "source": [
    "data.tail()"
   ]
  },
  {
   "cell_type": "code",
   "execution_count": 6,
   "id": "permanent-preference",
   "metadata": {
    "execution": {
     "iopub.execute_input": "2021-05-03T11:37:01.725637Z",
     "iopub.status.busy": "2021-05-03T11:37:01.723627Z",
     "iopub.status.idle": "2021-05-03T11:37:01.917217Z",
     "shell.execute_reply": "2021-05-03T11:37:01.916666Z"
    },
    "papermill": {
     "duration": 0.2071,
     "end_time": "2021-05-03T11:37:01.917364",
     "exception": false,
     "start_time": "2021-05-03T11:37:01.710264",
     "status": "completed"
    },
    "tags": []
   },
   "outputs": [
    {
     "data": {
      "image/png": "[encoded data removed]",
      "text/plain": [
       "<Figure size 432x288 with 1 Axes>"
      ]
     },
     "metadata": {
      "needs_background": "light"
     },
     "output_type": "display_data"
    }
   ],
   "source": [
    "data.plot(x=\"Height\",y=\"Weight\",style=\"o\")\n",
    "plt.title(\" Weight on basis of Height\")\n",
    "plt.xlabel(\"Height of the girl\")\n",
    "plt.ylabel(\"Weight of the girl\")\n",
    "plt.show()"
   ]
  },
  {
   "cell_type": "code",
   "execution_count": 7,
   "id": "greek-disposition",
   "metadata": {
    "execution": {
     "iopub.execute_input": "2021-05-03T11:37:01.947637Z",
     "iopub.status.busy": "2021-05-03T11:37:01.946754Z",
     "iopub.status.idle": "2021-05-03T11:37:01.950357Z",
     "shell.execute_reply": "2021-05-03T11:37:01.949751Z"
    },
    "papermill": {
     "duration": 0.02131,
     "end_time": "2021-05-03T11:37:01.950491",
     "exception": false,
     "start_time": "2021-05-03T11:37:01.929181",
     "status": "completed"
    },
    "tags": []
   },
   "outputs": [],
   "source": [
    "x=data.iloc[:,:-1].values\n",
    "y=data.iloc[:,1].values"
   ]
  },
  {
   "cell_type": "code",
   "execution_count": 8,
   "id": "static-berkeley",
   "metadata": {
    "execution": {
     "iopub.execute_input": "2021-05-03T11:37:01.979630Z",
     "iopub.status.busy": "2021-05-03T11:37:01.978947Z",
     "iopub.status.idle": "2021-05-03T11:37:01.981823Z",
     "shell.execute_reply": "2021-05-03T11:37:01.981246Z"
    },
    "papermill": {
     "duration": 0.019818,
     "end_time": "2021-05-03T11:37:01.981953",
     "exception": false,
     "start_time": "2021-05-03T11:37:01.962135",
     "status": "completed"
    },
    "tags": []
   },
   "outputs": [],
   "source": [
    "\n",
    "x_train, x_test, y_train, y_test = train_test_split(x, y,test_size=0.2, random_state=0)"
   ]
  },
  {
   "cell_type": "code",
   "execution_count": 9,
   "id": "complete-charleston",
   "metadata": {
    "execution": {
     "iopub.execute_input": "2021-05-03T11:37:02.023708Z",
     "iopub.status.busy": "2021-05-03T11:37:02.015507Z",
     "iopub.status.idle": "2021-05-03T11:37:02.033141Z",
     "shell.execute_reply": "2021-05-03T11:37:02.032606Z"
    },
    "papermill": {
     "duration": 0.03952,
     "end_time": "2021-05-03T11:37:02.033283",
     "exception": false,
     "start_time": "2021-05-03T11:37:01.993763",
     "status": "completed"
    },
    "tags": []
   },
   "outputs": [
    {
     "data": {
      "text/plain": [
       "LinearRegression()"
      ]
     },
     "execution_count": 9,
     "metadata": {},
     "output_type": "execute_result"
    }
   ],
   "source": [
    "regressor = LinearRegression()  \n",
    "regressor.fit(x_train, y_train) "
   ]
  },
  {
   "cell_type": "code",
   "execution_count": 10,
   "id": "statewide-union",
   "metadata": {
    "execution": {
     "iopub.execute_input": "2021-05-03T11:37:02.084096Z",
     "iopub.status.busy": "2021-05-03T11:37:02.072093Z",
     "iopub.status.idle": "2021-05-03T11:37:02.217173Z",
     "shell.execute_reply": "2021-05-03T11:37:02.216687Z"
    },
    "papermill": {
     "duration": 0.170258,
     "end_time": "2021-05-03T11:37:02.217310",
     "exception": false,
     "start_time": "2021-05-03T11:37:02.047052",
     "status": "completed"
    },
    "tags": []
   },
   "outputs": [
    {
     "data": {
      "image/png": "[encoded data removed]",
      "text/plain": [
       "<Figure size 432x288 with 1 Axes>"
      ]
     },
     "metadata": {
      "needs_background": "light"
     },
     "output_type": "display_data"
    }
   ],
   "source": [
    "line = regressor.coef_*x+regressor.intercept_\n",
    "data.plot(x=\"Height\",y=\"Weight\",style=\"o\")\n",
    "plt.title(\"weight on the basis of height\")\n",
    "plt.xlabel(\"Height\")\n",
    "plt.ylabel(\"Weight\")\n",
    "plt.plot(x, line , color='black');\n",
    "plt.show()"
   ]
  },
  {
   "cell_type": "code",
   "execution_count": 11,
   "id": "tested-dining",
   "metadata": {
    "execution": {
     "iopub.execute_input": "2021-05-03T11:37:02.248008Z",
     "iopub.status.busy": "2021-05-03T11:37:02.247455Z",
     "iopub.status.idle": "2021-05-03T11:37:02.250567Z",
     "shell.execute_reply": "2021-05-03T11:37:02.250990Z"
    },
    "papermill": {
     "duration": 0.020698,
     "end_time": "2021-05-03T11:37:02.251157",
     "exception": false,
     "start_time": "2021-05-03T11:37:02.230459",
     "status": "completed"
    },
    "tags": []
   },
   "outputs": [
    {
     "name": "stdout",
     "output_type": "stream",
     "text": [
      "[[1.5 ]\n",
      " [1.63]\n",
      " [1.68]]\n"
     ]
    }
   ],
   "source": [
    "print(x_test)\n",
    "y_pred = regressor.predict(x_test)"
   ]
  },
  {
   "cell_type": "code",
   "execution_count": 12,
   "id": "therapeutic-costs",
   "metadata": {
    "execution": {
     "iopub.execute_input": "2021-05-03T11:37:02.286667Z",
     "iopub.status.busy": "2021-05-03T11:37:02.285998Z",
     "iopub.status.idle": "2021-05-03T11:37:02.289265Z",
     "shell.execute_reply": "2021-05-03T11:37:02.289684Z"
    },
    "papermill": {
     "duration": 0.025411,
     "end_time": "2021-05-03T11:37:02.289848",
     "exception": false,
     "start_time": "2021-05-03T11:37:02.264437",
     "status": "completed"
    },
    "tags": []
   },
   "outputs": [
    {
     "data": {
      "text/html": [
       "<div>\n",
       "<style scoped>\n",
       "    .dataframe tbody tr th:only-of-type {\n",
       "        vertical-align: middle;\n",
       "    }\n",
       "\n",
       "    .dataframe tbody tr th {\n",
       "        vertical-align: top;\n",
       "    }\n",
       "\n",
       "    .dataframe thead th {\n",
       "        text-align: right;\n",
       "    }\n",
       "</style>\n",
       "<table border=\"1\" class=\"dataframe\">\n",
       "  <thead>\n",
       "    <tr style=\"text-align: right;\">\n",
       "      <th></th>\n",
       "      <th>Actual</th>\n",
       "      <th>Predicted</th>\n",
       "    </tr>\n",
       "  </thead>\n",
       "  <tbody>\n",
       "    <tr>\n",
       "      <th>0</th>\n",
       "      <td>53.12</td>\n",
       "      <td>52.930541</td>\n",
       "    </tr>\n",
       "    <tr>\n",
       "      <th>1</th>\n",
       "      <td>59.93</td>\n",
       "      <td>60.920108</td>\n",
       "    </tr>\n",
       "    <tr>\n",
       "      <th>2</th>\n",
       "      <td>63.11</td>\n",
       "      <td>63.993019</td>\n",
       "    </tr>\n",
       "  </tbody>\n",
       "</table>\n",
       "</div>"
      ],
      "text/plain": [
       "   Actual  Predicted\n",
       "0   53.12  52.930541\n",
       "1   59.93  60.920108\n",
       "2   63.11  63.993019"
      ]
     },
     "execution_count": 12,
     "metadata": {},
     "output_type": "execute_result"
    }
   ],
   "source": [
    "data1 = pd.DataFrame({'Actual': y_test, 'Predicted': y_pred})  \n",
    "data1"
   ]
  },
  {
   "cell_type": "code",
   "execution_count": 13,
   "id": "composed-significance",
   "metadata": {
    "execution": {
     "iopub.execute_input": "2021-05-03T11:37:02.320896Z",
     "iopub.status.busy": "2021-05-03T11:37:02.320349Z",
     "iopub.status.idle": "2021-05-03T11:37:02.327930Z",
     "shell.execute_reply": "2021-05-03T11:37:02.327389Z"
    },
    "papermill": {
     "duration": 0.024357,
     "end_time": "2021-05-03T11:37:02.328077",
     "exception": false,
     "start_time": "2021-05-03T11:37:02.303720",
     "status": "completed"
    },
    "tags": []
   },
   "outputs": [
    {
     "name": "stdout",
     "output_type": "stream",
     "text": [
      "Mean Absolute Error: 0.6875285251817592\n",
      "Mean Squared Error: 0.5986436208283817\n",
      "r2 score error: 0.9655266437382162\n"
     ]
    }
   ],
   "source": [
    "from sklearn import metrics\n",
    "from sklearn.metrics import r2_score\n",
    "from sklearn.metrics import mean_squared_error\n",
    "print('Mean Absolute Error:',metrics.mean_absolute_error(y_test, y_pred)) \n",
    "print('Mean Squared Error:', mean_squared_error(y_test, y_pred))\n",
    "print('r2 score error:' , r2_score(y_test, y_pred))"
   ]
  },
  {
   "cell_type": "markdown",
   "id": "spatial-example",
   "metadata": {
    "papermill": {
     "duration": 0.014212,
     "end_time": "2021-05-03T11:37:02.356483",
     "exception": false,
     "start_time": "2021-05-03T11:37:02.342271",
     "status": "completed"
    },
    "tags": []
   },
   "source": [
    "my own prediction -"
   ]
  },
  {
   "cell_type": "code",
   "execution_count": 14,
   "id": "differential-bearing",
   "metadata": {
    "execution": {
     "iopub.execute_input": "2021-05-03T11:37:02.390417Z",
     "iopub.status.busy": "2021-05-03T11:37:02.389798Z",
     "iopub.status.idle": "2021-05-03T11:37:02.393129Z",
     "shell.execute_reply": "2021-05-03T11:37:02.392656Z"
    },
    "papermill": {
     "duration": 0.022373,
     "end_time": "2021-05-03T11:37:02.393260",
     "exception": false,
     "start_time": "2021-05-03T11:37:02.370887",
     "status": "completed"
    },
    "tags": []
   },
   "outputs": [
    {
     "name": "stdout",
     "output_type": "stream",
     "text": [
      "Predicted Weight = 201.6594029613119\n"
     ]
    }
   ],
   "source": [
    "Height = 3.92\n",
    "own_pred = regressor.predict([[Height]])\n",
    "print(\"Predicted Weight = {}\".format(own_pred[0]))"
   ]
  },
  {
   "cell_type": "code",
   "execution_count": null,
   "id": "oriented-convertible",
   "metadata": {
    "papermill": {
     "duration": 0.014204,
     "end_time": "2021-05-03T11:37:02.421875",
     "exception": false,
     "start_time": "2021-05-03T11:37:02.407671",
     "status": "completed"
    },
    "tags": []
   },
   "outputs": [],
   "source": []
  }
 ],
 "metadata": {
  "kernelspec": {
   "display_name": "Python 3",
   "language": "python",
   "name": "python3"
  },
  "language_info": {
   "codemirror_mode": {
    "name": "ipython",
    "version": 3
   },
   "file_extension": ".py",
   "mimetype": "text/x-python",
   "name": "python",
   "nbconvert_exporter": "python",
   "pygments_lexer": "ipython3",
   "version": "3.7.9"
  },
  "papermill": {
   "default_parameters": {},
   "duration": 8.612605,
   "end_time": "2021-05-03T11:37:03.046551",
   "environment_variables": {},
   "exception": null,
   "input_path": "__notebook__.ipynb",
   "output_path": "__notebook__.ipynb",
   "parameters": {},
   "start_time": "2021-05-03T11:36:54.433946",
   "version": "2.3.2"
  }
 },
 "nbformat": 4,
 "nbformat_minor": 5
}
